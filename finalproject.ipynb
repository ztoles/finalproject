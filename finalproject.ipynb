{
  "nbformat": 4,
  "nbformat_minor": 0,
  "metadata": {
    "colab": {
      "provenance": [],
      "toc_visible": true,
      "authorship_tag": "ABX9TyNVrRk3tBPdqzLtoWGcNvOF",
      "include_colab_link": true
    },
    "kernelspec": {
      "name": "python3",
      "display_name": "Python 3"
    },
    "language_info": {
      "name": "python"
    }
  },
  "cells": [
    {
      "cell_type": "markdown",
      "metadata": {
        "id": "view-in-github",
        "colab_type": "text"
      },
      "source": [
        "<a href=\"https://colab.research.google.com/github/ztoles/finalproject/blob/main/finalproject.ipynb\" target=\"_parent\"><img src=\"https://colab.research.google.com/assets/colab-badge.svg\" alt=\"Open In Colab\"/></a>"
      ]
    },
    {
      "cell_type": "code",
      "execution_count": 1,
      "metadata": {
        "id": "vxtfP_vFMwCo"
      },
      "outputs": [],
      "source": [
        "# todo_list.py\n",
        "\n",
        "class TodoList:\n",
        "    def __init__(self):\n",
        "        self.tasks = []\n",
        "\n",
        "    def add_task(self, task):\n",
        "        # Implement logic to add a task\n",
        "        pass\n",
        "\n",
        "    def remove_task(self, task):\n",
        "        # Implement logic to remove a task\n",
        "        pass\n",
        "\n",
        "    def display_tasks(self):\n",
        "        # Implement logic to display tasks\n",
        "        pass\n",
        "\n",
        "# Example usage:\n",
        "todo_list = TodoList()\n",
        "todo_list.add_task(\"Complete project\")\n",
        "todo_list.add_task(\"Prepare presentation\")\n",
        "todo_list.display_tasks()\n",
        "todo_list.remove_task(\"Complete project\")\n",
        "todo_list.display_tasks()\n"
      ]
    },
    {
      "cell_type": "code",
      "source": [
        "# ui.py\n",
        "\n",
        "def show_menu():\n",
        "    print(\"1. Add Task\")\n",
        "    print(\"2. Remove Task\")\n",
        "    print(\"3. Display Tasks\")\n",
        "    print(\"0. Exit\")\n",
        "\n",
        "# Example usage:\n",
        "show_menu()\n"
      ],
      "metadata": {
        "colab": {
          "base_uri": "https://localhost:8080/"
        },
        "id": "Z2Ym58ZfOCQ9",
        "outputId": "814adeff-dc96-4bc2-c370-9704d4e31eae"
      },
      "execution_count": 2,
      "outputs": [
        {
          "output_type": "stream",
          "name": "stdout",
          "text": [
            "1. Add Task\n",
            "2. Remove Task\n",
            "3. Display Tasks\n",
            "0. Exit\n"
          ]
        }
      ]
    }
  ]
}